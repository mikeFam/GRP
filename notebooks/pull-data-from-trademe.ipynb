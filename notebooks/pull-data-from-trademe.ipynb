{
 "cells": [
  {
   "cell_type": "code",
   "execution_count": 2,
   "id": "04c2d6e0",
   "metadata": {},
   "outputs": [
    {
     "name": "stdout",
     "output_type": "stream",
     "text": [
      "hello ass\n"
     ]
    }
   ],
   "source": [
    "print(\"hello ass\")"
   ]
  },
  {
   "cell_type": "code",
   "execution_count": 3,
   "id": "a98fc1b5",
   "metadata": {},
   "outputs": [],
   "source": [
    "from typing import List, Dict\n",
    "import re\n",
    "from playwright.sync_api import sync_playwright\n",
    "\n",
    "LISTING_LINK_SELECTOR = 'a[href^=\"/a/motors/cars/listing/\"]'\n",
    "\n",
    "def _parse_card_text(text: str) -> Dict:\n",
    "    price = (m.group(0) if (m := re.search(r'\\$[\\d,]+', text)) else None)\n",
    "    title_line = next((ln.strip() for ln in text.splitlines() if ln.strip()), '')\n",
    "    year = (m.group(0) if (m := re.search(r'\\b(19|20)\\d{2}\\b', title_line)) else None)\n",
    "    kms = (m.group(1).replace(',', '') if (m := re.search(r'([\\d,]+)\\s?km', text, re.I)) else None)\n",
    "    return {\"title\": title_line, \"price\": price, \"year\": year, \"odometer_km\": kms}\n",
    "\n",
    "def scrape_cars(pages: int = 1, headless: bool = True) -> List[Dict]:\n",
    "    results: List[Dict] = []\n",
    "    with sync_playwright() as p:\n",
    "        browser = p.chromium.launch(headless=headless)\n",
    "        context = browser.new_context(user_agent=\"Mozilla/5.0 (X11; Linux x86_64) AppleWebKit/537.36 (KHTML, like Gecko) Chrome/124 Safari/537.36\")\n",
    "        page = context.new_page()\n",
    "        for i in range(1, pages + 1):\n",
    "            url = f\"https://www.trademe.co.nz/a/motors/cars?page={i}\"\n",
    "            page.goto(url, wait_until=\"domcontentloaded\")\n",
    "            page.wait_for_timeout(1000)  # allow listings to render\n",
    "            # Wait briefly for cards to appear\n",
    "            for _ in range(5):\n",
    "                if page.locator(LISTING_LINK_SELECTOR).count() > 0:\n",
    "                    break\n",
    "                page.wait_for_timeout(500)\n",
    "\n",
    "            anchors = page.locator(LISTING_LINK_SELECTOR)\n",
    "            seen = set()\n",
    "            for idx in range(anchors.count()):\n",
    "                href = anchors.nth(idx).get_attribute(\"href\")\n",
    "                if not href or href in seen:\n",
    "                    continue\n",
    "                seen.add(href)\n",
    "                listing_id = (m.group(1) if (m := re.search(r'/listing/(\\d+)', href)) else None)\n",
    "                url_full = \"https://www.trademe.co.nz\" + href\n",
    "                card_text = anchors.nth(idx).evaluate(\"\"\"(el) => {\n",
    "                    const card = el.closest('[data-testid], .tm-search-card, .o-card') || el.parentElement;\n",
    "                    return card ? card.innerText : el.innerText;\n",
    "                }\"\"\") or \"\"\n",
    "                parsed = _parse_card_text(card_text)\n",
    "                results.append({\"id\": listing_id, \"url\": url_full, **parsed})\n",
    "        browser.close()\n",
    "    return results\n",
    "\n",
    "def scrape_to_csv(out_path: str, pages: int = 1, headless: bool = True) -> str:\n",
    "    import pandas as pd, os\n",
    "    rows = scrape_cars(pages=pages, headless=headless)\n",
    "    df = pd.DataFrame(rows).drop_duplicates(subset=[\"id\", \"url\"])\n",
    "    os.makedirs(os.path.dirname(out_path), exist_ok=True)\n",
    "    df.to_csv(out_path, index=False)\n",
    "    return out_path"
   ]
  },
  {
   "cell_type": "code",
   "execution_count": 4,
   "id": "488e8d89",
   "metadata": {},
   "outputs": [
    {
     "ename": "Error",
     "evalue": "It looks like you are using Playwright Sync API inside the asyncio loop.\nPlease use the Async API instead.",
     "output_type": "error",
     "traceback": [
      "\u001b[31m---------------------------------------------------------------------------\u001b[39m",
      "\u001b[31mError\u001b[39m                                     Traceback (most recent call last)",
      "\u001b[36mCell\u001b[39m\u001b[36m \u001b[39m\u001b[32mIn[4]\u001b[39m\u001b[32m, line 7\u001b[39m\n\u001b[32m      1\u001b[39m \u001b[38;5;66;03m# Install deps only once per container/session:\u001b[39;00m\n\u001b[32m      2\u001b[39m \u001b[38;5;66;03m# %pip install playwright pandas\u001b[39;00m\n\u001b[32m      3\u001b[39m \u001b[38;5;66;03m# import sys, subprocess; subprocess.run([sys.executable, \"-m\", \"playwright\", \"install\", \"chromium\"], check=True)\u001b[39;00m\n\u001b[32m----> \u001b[39m\u001b[32m7\u001b[39m rows = \u001b[43mscrape_cars\u001b[49m\u001b[43m(\u001b[49m\u001b[43mpages\u001b[49m\u001b[43m=\u001b[49m\u001b[32;43m2\u001b[39;49m\u001b[43m,\u001b[49m\u001b[43m \u001b[49m\u001b[43mheadless\u001b[49m\u001b[43m=\u001b[49m\u001b[38;5;28;43;01mTrue\u001b[39;49;00m\u001b[43m)\u001b[49m\n\u001b[32m      8\u001b[39m \u001b[38;5;28mprint\u001b[39m(\u001b[33mf\u001b[39m\u001b[33m\"\u001b[39m\u001b[33mCollected \u001b[39m\u001b[38;5;132;01m{\u001b[39;00m\u001b[38;5;28mlen\u001b[39m(rows)\u001b[38;5;132;01m}\u001b[39;00m\u001b[33m listings\u001b[39m\u001b[33m\"\u001b[39m)\n\u001b[32m      9\u001b[39m rows[:\u001b[32m3\u001b[39m]\n",
      "\u001b[36mCell\u001b[39m\u001b[36m \u001b[39m\u001b[32mIn[3]\u001b[39m\u001b[32m, line 16\u001b[39m, in \u001b[36mscrape_cars\u001b[39m\u001b[34m(pages, headless)\u001b[39m\n\u001b[32m     14\u001b[39m \u001b[38;5;28;01mdef\u001b[39;00m\u001b[38;5;250m \u001b[39m\u001b[34mscrape_cars\u001b[39m(pages: \u001b[38;5;28mint\u001b[39m = \u001b[32m1\u001b[39m, headless: \u001b[38;5;28mbool\u001b[39m = \u001b[38;5;28;01mTrue\u001b[39;00m) -> List[Dict]:\n\u001b[32m     15\u001b[39m     results: List[Dict] = []\n\u001b[32m---> \u001b[39m\u001b[32m16\u001b[39m \u001b[43m    \u001b[49m\u001b[38;5;28;43;01mwith\u001b[39;49;00m\u001b[43m \u001b[49m\u001b[43msync_playwright\u001b[49m\u001b[43m(\u001b[49m\u001b[43m)\u001b[49m\u001b[43m \u001b[49m\u001b[38;5;28;43;01mas\u001b[39;49;00m\u001b[43m \u001b[49m\u001b[43mp\u001b[49m\u001b[43m:\u001b[49m\n\u001b[32m     17\u001b[39m \u001b[43m        \u001b[49m\u001b[43mbrowser\u001b[49m\u001b[43m \u001b[49m\u001b[43m=\u001b[49m\u001b[43m \u001b[49m\u001b[43mp\u001b[49m\u001b[43m.\u001b[49m\u001b[43mchromium\u001b[49m\u001b[43m.\u001b[49m\u001b[43mlaunch\u001b[49m\u001b[43m(\u001b[49m\u001b[43mheadless\u001b[49m\u001b[43m=\u001b[49m\u001b[43mheadless\u001b[49m\u001b[43m)\u001b[49m\n\u001b[32m     18\u001b[39m \u001b[43m        \u001b[49m\u001b[43mcontext\u001b[49m\u001b[43m \u001b[49m\u001b[43m=\u001b[49m\u001b[43m \u001b[49m\u001b[43mbrowser\u001b[49m\u001b[43m.\u001b[49m\u001b[43mnew_context\u001b[49m\u001b[43m(\u001b[49m\u001b[43muser_agent\u001b[49m\u001b[43m=\u001b[49m\u001b[33;43m\"\u001b[39;49m\u001b[33;43mMozilla/5.0 (X11; Linux x86_64) AppleWebKit/537.36 (KHTML, like Gecko) Chrome/124 Safari/537.36\u001b[39;49m\u001b[33;43m\"\u001b[39;49m\u001b[43m)\u001b[49m\n",
      "\u001b[36mFile \u001b[39m\u001b[32m/workspaces/GRP/.venv/lib/python3.13/site-packages/playwright/sync_api/_context_manager.py:47\u001b[39m, in \u001b[36mPlaywrightContextManager.__enter__\u001b[39m\u001b[34m(self)\u001b[39m\n\u001b[32m     45\u001b[39m             \u001b[38;5;28mself\u001b[39m._own_loop = \u001b[38;5;28;01mTrue\u001b[39;00m\n\u001b[32m     46\u001b[39m         \u001b[38;5;28;01mif\u001b[39;00m \u001b[38;5;28mself\u001b[39m._loop.is_running():\n\u001b[32m---> \u001b[39m\u001b[32m47\u001b[39m             \u001b[38;5;28;01mraise\u001b[39;00m Error(\n\u001b[32m     48\u001b[39m \u001b[38;5;250m                \u001b[39m\u001b[33;03m\"\"\"It looks like you are using Playwright Sync API inside the asyncio loop.\u001b[39;00m\n\u001b[32m     49\u001b[39m \u001b[33;03mPlease use the Async API instead.\"\"\"\u001b[39;00m\n\u001b[32m     50\u001b[39m             )\n\u001b[32m     52\u001b[39m         \u001b[38;5;66;03m# Create a new fiber for the protocol dispatcher. It will be pumping events\u001b[39;00m\n\u001b[32m     53\u001b[39m         \u001b[38;5;66;03m# until the end of times. We will pass control to that fiber every time we\u001b[39;00m\n\u001b[32m     54\u001b[39m         \u001b[38;5;66;03m# block while waiting for a response.\u001b[39;00m\n\u001b[32m     55\u001b[39m         \u001b[38;5;28;01mdef\u001b[39;00m\u001b[38;5;250m \u001b[39m\u001b[34mgreenlet_main\u001b[39m() -> \u001b[38;5;28;01mNone\u001b[39;00m:\n",
      "\u001b[31mError\u001b[39m: It looks like you are using Playwright Sync API inside the asyncio loop.\nPlease use the Async API instead."
     ]
    }
   ],
   "source": [
    "# Install deps only once per container/session:\n",
    "# %pip install playwright pandas\n",
    "# import sys, subprocess; subprocess.run([sys.executable, \"-m\", \"playwright\", \"install\", \"chromium\"], check=True)\n",
    "\n",
    "\n",
    "\n",
    "rows = scrape_cars(pages=2, headless=True)\n",
    "print(f\"Collected {len(rows)} listings\")\n",
    "rows[:3]\n",
    "\n",
    "csv_path = \"/workspaces/GRP/data/trademe_cars.csv\"\n",
    "print(\"Saved:\", scrape_to_csv(csv_path, pages=2))"
   ]
  },
  {
   "cell_type": "code",
   "execution_count": null,
   "id": "b5327a9f",
   "metadata": {},
   "outputs": [],
   "source": []
  }
 ],
 "metadata": {
  "kernelspec": {
   "display_name": ".venv",
   "language": "python",
   "name": "python3"
  },
  "language_info": {
   "codemirror_mode": {
    "name": "ipython",
    "version": 3
   },
   "file_extension": ".py",
   "mimetype": "text/x-python",
   "name": "python",
   "nbconvert_exporter": "python",
   "pygments_lexer": "ipython3",
   "version": "3.13.7"
  }
 },
 "nbformat": 4,
 "nbformat_minor": 5
}
